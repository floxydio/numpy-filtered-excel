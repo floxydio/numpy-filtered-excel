{
 "cells": [
  {
   "cell_type": "code",
   "execution_count": null,
   "metadata": {},
   "outputs": [
    {
     "name": "stdout",
     "output_type": "stream",
     "text": [
      "Filtered data has been saved to filtered_data.json\n"
     ]
    }
   ],
   "source": [
    "import numpy as np\n",
    "import pandas as pd\n",
    "\n",
    "file_path = \"filterData.xlsx\"\n",
    "df = pd.read_excel(file_path)\n",
    "df.columns = df.columns.str.strip().str.lower().str.replace(' ', '_').str.replace('/', '_').str.replace(r'\\W', '')\n",
    "\n",
    "filtered_df = df[df['unit_kerja'] == 'Gedung Kantor PUSAT PELNI']\n",
    "\n",
    "filtered_array = filtered_df.to_numpy()\n",
    "\n",
    "json_file_path = 'filtered_data.json'\n",
    "filtered_df.to_json(json_file_path, orient='records')\n"
   ]
  }
 ],
 "metadata": {
  "kernelspec": {
   "display_name": "Python 3",
   "language": "python",
   "name": "python3"
  },
  "language_info": {
   "codemirror_mode": {
    "name": "ipython",
    "version": 3
   },
   "file_extension": ".py",
   "mimetype": "text/x-python",
   "name": "python",
   "nbconvert_exporter": "python",
   "pygments_lexer": "ipython3",
   "version": "3.13.0"
  }
 },
 "nbformat": 4,
 "nbformat_minor": 2
}
