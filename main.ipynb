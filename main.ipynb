{
 "cells": [
  {
   "cell_type": "code",
   "execution_count": 6,
   "metadata": {},
   "outputs": [
    {
     "data": {
      "text/plain": [
       "array([1.8 , 1.32])"
      ]
     },
     "execution_count": 6,
     "metadata": {},
     "output_type": "execute_result"
    }
   ],
   "source": [
    "import numpy as np\n",
    "\n",
    "# calculator\n",
    "# data = np.array([1,5])\n",
    "# data.sum()  \n",
    "\n",
    "# calculator array\n",
    "newData = np.array([1.5,1.1])\n",
    "newData * 1.2"
   ]
  },
  {
   "cell_type": "code",
   "execution_count": null,
   "metadata": {},
   "outputs": [
    {
     "name": "stdout",
     "output_type": "stream",
     "text": [
      "ada\n",
      "[{'id': 1, 'item': 111}, {'id': 2, 'item': 112}, {'id': 3, 'item': 113}, {'id': 4, 'item': 114}, {'id': 5, 'item': 121}, {'id': 6, 'item': 211}, {'id': 7, 'item': 311}, {'id': 8, 'item': 'Jumlah'}, {'id': 9, 'item': 'Laba'}, {'id': 10, 'item': 'Jumlah Akhir'}]\n"
     ]
    }
   ],
   "source": [
    "import numpy as np\n",
    "import pandas as pd\n",
    "\n",
    "file_path = \"akuntan.xlsx\"\n",
    "\n",
    "data = pd.read_excel(file_path, header= None)\n",
    "header_row = None\n",
    "\n",
    "for i, row in data.iterrows():\n",
    "    if \"Kode Akun\" in row.values:\n",
    "        print(\"ada\")\n",
    "        header_row = i\n",
    "\n",
    "\n",
    "if header_row is not None:\n",
    "    df = pd.read_excel(file_path, header= header_row)\n",
    "    if \"Kode Akun\" in df.columns:\n",
    "        kode_akun_data = df[\"Kode Akun\"].dropna()\n",
    "    mockDataList = []\n",
    "\n",
    "    for i, f in enumerate(kode_akun_data):\n",
    "        mockDataList.append({\n",
    "            \"id\": i+1,\n",
    "            \"item\": f\n",
    "        })\n",
    "        mockDataList = mockDataList.sort((data))\n",
    "    print(mockDataList)\n"
   ]
  }
 ],
 "metadata": {
  "kernelspec": {
   "display_name": "Python 3",
   "language": "python",
   "name": "python3"
  },
  "language_info": {
   "codemirror_mode": {
    "name": "ipython",
    "version": 3
   },
   "file_extension": ".py",
   "mimetype": "text/x-python",
   "name": "python",
   "nbconvert_exporter": "python",
   "pygments_lexer": "ipython3",
   "version": "3.13.0"
  }
 },
 "nbformat": 4,
 "nbformat_minor": 2
}
